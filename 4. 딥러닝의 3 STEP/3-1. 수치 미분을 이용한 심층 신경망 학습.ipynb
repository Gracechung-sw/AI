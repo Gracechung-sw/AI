{
 "cells": [
  {
   "cell_type": "markdown",
   "metadata": {},
   "source": [
    "# 3-1. 수치 미분을 이용한 심층 신경망 학습 "
   ]
  },
  {
   "cell_type": "code",
   "execution_count": 1,
   "metadata": {},
   "outputs": [],
   "source": [
    "import time #time을 이용해서 학습하는데 얼마나 시간이 걸리는지 계산 할 것이다. \n",
    "import numpy as np #numpy를 이용해서 수치 미분을 이용한 심층 신경망 학습을 구현 할 것이다. \n",
    "#tensorflow 사용하지 않네,,,"
   ]
  },
  {
   "cell_type": "markdown",
   "metadata": {},
   "source": [
    "### 1. 유틸리티 함수 - 계속 쓰기 귀찮으니까 함수로 만들어버리기"
   ]
  },
  {
   "cell_type": "code",
   "execution_count": 2,
   "metadata": {},
   "outputs": [],
   "source": [
    "epsilon = 0.0001\n",
    "\n",
    "def _transpose(x) :\n",
    "    return np.transpose(x)\n",
    "\n",
    "def _matmul(x) : \n",
    "    return np.matmul(A, B)\n",
    "\n",
    "def sigmoid(x) :\n",
    "    return 1/(1+np.exp(-x))\n",
    "\n",
    "def mean_squared_error(h, y):\n",
    "    return 1/2*np.mean(np.square(h-y))"
   ]
  },
  {
   "cell_type": "markdown",
   "metadata": {},
   "source": [
    "### 2. 뉴런 구현"
   ]
  },
  {
   "cell_type": "code",
   "execution_count": 6,
   "metadata": {},
   "outputs": [],
   "source": [
    "class Neuron:\n",
    "    def __init__(self, W, b, a):\n",
    "        #model Parameter 초기화\n",
    "        self.W = W\n",
    "        self.b = b\n",
    "        self.a = a\n",
    "        \n",
    "        #Gradient저장\n",
    "        self.dW \n",
    "        self.dW = np.zeros_like(self.W)\n",
    "        self.db = np.zeros_like(self.b)\n",
    "        \n",
    "    def call(self, x):\n",
    "        return self.a(_matmul(_transpose(self.W), x) + self.b)\n",
    "        # activation((W^T)x +b)"
   ]
  },
  {
   "cell_type": "markdown",
   "metadata": {},
   "source": [
    "### 3. 위에서 구현한 뉴런을 이용해서 심층 신경망 구현"
   ]
  },
  {
   "cell_type": "code",
   "execution_count": 8,
   "metadata": {},
   "outputs": [],
   "source": [
    "class DNN : \n",
    "    def __init__(self, hidden_depth, num_neuron, input, output, activation = sigmoid):\n",
    "        def init_var(in_, out) : #W와 b를 initialize 해 주는 부분\n",
    "            return np.random.normal(0.0, 0.01, (in_, out)), np.zeros((output,))\n",
    "        \n",
    "        self.sequence = list( )\n",
    "        #First hidden layer\n",
    "        W, b = init_var(num_input, num_neuron)\n",
    "        self.sequence.append(Neuron(W, b, activation))\n",
    "        \n",
    "        #Hidden layer : 첫번째 hidden layer 빼고 여러개니까 for문 사용\n",
    "        for _ in range(hidden_depth-1):\n",
    "            W, b = init_var(num_neuron, num_neuron)\n",
    "            self.sequence.append(Neuron(W, b, activation))\n",
    "            \n",
    "    \n",
    "        #Output layer \n",
    "        W, b = init_var(num_neuron, num_output)\n",
    "        self.sequence.append(Neuron(W, b, activation))\n",
    "    \n",
    "    def call(self, x):\n",
    "        for layer in self.sequence:\n",
    "            x = layer(x)\n",
    "        return x\n",
    "            \n",
    "    def cal_gradient(self, x, y, loss_func):\n",
    "        def get_new_sequence(layer_index, new_neuron):\n",
    "            new_sequence = list()\n",
    "            for i, layer in enumerate(self.sequence):\n",
    "                if i==layer_index : \n",
    "                    new_sequence.append(new_neuron)\n",
    "                else:\n",
    "                    new_sequence.append(layer)\n",
    "            return new_sequence\n",
    "        \n",
    "        \n",
    "    #새로운 new_sequence를 evaluate 하는\n",
    "        def eval_sequence(x, sequence):\n",
    "            for layer in sequence:\n",
    "                x = layer(x)\n",
    "            return x\n",
    "        \n",
    "        \n",
    "                \n",
    "        "
   ]
  },
  {
   "cell_type": "markdown",
   "metadata": {},
   "source": [
    "### 4. 경사하강 학습법구현"
   ]
  },
  {
   "cell_type": "code",
   "execution_count": null,
   "metadata": {},
   "outputs": [],
   "source": []
  },
  {
   "cell_type": "markdown",
   "metadata": {},
   "source": [
    "### 5. 위에서 구현한 것들을 사용해서 학습 시키기"
   ]
  },
  {
   "cell_type": "code",
   "execution_count": null,
   "metadata": {},
   "outputs": [],
   "source": []
  }
 ],
 "metadata": {
  "kernelspec": {
   "display_name": "Python 3",
   "language": "python",
   "name": "python3"
  },
  "language_info": {
   "codemirror_mode": {
    "name": "ipython",
    "version": 3
   },
   "file_extension": ".py",
   "mimetype": "text/x-python",
   "name": "python",
   "nbconvert_exporter": "python",
   "pygments_lexer": "ipython3",
   "version": "3.6.9"
  }
 },
 "nbformat": 4,
 "nbformat_minor": 2
}
