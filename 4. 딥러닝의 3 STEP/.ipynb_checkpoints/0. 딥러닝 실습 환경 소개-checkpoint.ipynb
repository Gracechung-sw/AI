{
 "cells": [
  {
   "cell_type": "markdown",
   "metadata": {},
   "source": [
    " # 0. 딥러닝 실습 환경 소개"
   ]
  },
  {
   "cell_type": "code",
   "execution_count": 2,
   "metadata": {},
   "outputs": [],
   "source": [
    "import tensorflow as tf"
   ]
  },
  {
   "cell_type": "markdown",
   "metadata": {},
   "source": [
    "### 1) 하이퍼파라미터 설정"
   ]
  },
  {
   "cell_type": "code",
   "execution_count": 3,
   "metadata": {},
   "outputs": [],
   "source": [
    "EPOCHS = 5"
   ]
  },
  {
   "cell_type": "markdown",
   "metadata": {},
   "source": [
    "### 2) 네트워크 구조 정의"
   ]
  },
  {
   "cell_type": "code",
   "execution_count": 8,
   "metadata": {},
   "outputs": [],
   "source": [
    "#keras를 상속받아서 사용\n",
    "class MyModel(tf.keras.Model):\n",
    "    def __init__(self) : #init에서 앞으로 사용할 모든 layer를 정의\n",
    "        super(MyModel, self).__init__()\n",
    "        self.flatten = tf.keras.layers.Flattne(input_shape = (28, 28))\n",
    "        self.d1 = tf.keras.layers.Dense(128, activation = 'sigmoid')\n",
    "        self.d2 = tf.keras.layers.Dense(10, activation = 'softmax')\n",
    "    \n",
    "    def call(self, x) : #call에서 각 layer의 연결성을 구성\n",
    "        x = self.flatten(x)\n",
    "        x = sel.d1(x)\n",
    "        return self.d2(x)"
   ]
  },
  {
   "cell_type": "markdown",
   "metadata": {},
   "source": [
    "### 3) 학습loop 정의"
   ]
  },
  {
   "cell_type": "code",
   "execution_count": 9,
   "metadata": {},
   "outputs": [],
   "source": [
    "@tf.function\n",
    "def train_step(model, images, labels, loss_object, optimizer, train_loss, train_accuracy) : #다양한 입력값을 받아서\n",
    "    with tf.GradientTape() as tape : \n",
    "        predictions = model(image) #model에 input image을 넣어서 출력을 내고\n",
    "        loss = loss_object(labels, predictions)#출력과 정답을 비교해서\n",
    "    gradients = tape.gradient(loss, model_tainable_variables)        #loss, gradient를 점차 개선\n",
    "    \n",
    "    optimizer.apply_gradients(zip(gradients, odel.trainable_variables))\n",
    "    train_loss(loss)\n",
    "    train_accuracy(labels, prediction)\n",
    "\n"
   ]
  },
  {
   "cell_type": "markdown",
   "metadata": {},
   "source": [
    "### 4) test loop 정의 : 학습 loop 과 거의 유사한데, gradient를 만드는 부분만 빠져있는 것이다."
   ]
  },
  {
   "cell_type": "code",
   "execution_count": null,
   "metadata": {},
   "outputs": [],
   "source": []
  },
  {
   "cell_type": "markdown",
   "metadata": {},
   "source": [
    "### 5) 실질적인 학습"
   ]
  },
  {
   "cell_type": "code",
   "execution_count": null,
   "metadata": {},
   "outputs": [],
   "source": []
  }
 ],
 "metadata": {
  "kernelspec": {
   "display_name": "Python 3",
   "language": "python",
   "name": "python3"
  },
  "language_info": {
   "codemirror_mode": {
    "name": "ipython",
    "version": 3
   },
   "file_extension": ".py",
   "mimetype": "text/x-python",
   "name": "python",
   "nbconvert_exporter": "python",
   "pygments_lexer": "ipython3",
   "version": "3.6.9"
  }
 },
 "nbformat": 4,
 "nbformat_minor": 2
}
