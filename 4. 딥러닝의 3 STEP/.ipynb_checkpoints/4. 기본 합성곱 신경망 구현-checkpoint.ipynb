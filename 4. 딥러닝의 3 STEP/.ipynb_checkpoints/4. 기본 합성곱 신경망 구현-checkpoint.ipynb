{
 "cells": [
  {
   "cell_type": "markdown",
   "metadata": {},
   "source": [
    "# Basic Convolutional Neural Network Implementation"
   ]
  },
  {
   "cell_type": "code",
   "execution_count": 1,
   "metadata": {},
   "outputs": [],
   "source": [
    "import tensorflow as tf\n",
    "import numpy as np"
   ]
  },
  {
   "cell_type": "code",
   "execution_count": 2,
   "metadata": {},
   "outputs": [],
   "source": [
    "#1. hyperparameter\n",
    "Epochs = 10"
   ]
  },
  {
   "cell_type": "code",
   "execution_count": 17,
   "metadata": {},
   "outputs": [],
   "source": [
    "#2. build model #VGG16과 비슷한 모델 : pooling을 하기 전 동일한 conv layer을 반복해서 사용하는 것이 특징입니다. \n",
    "class ConvNet(tf.keras.Model):\n",
    "    def __init__(self):\n",
    "        super(ConvNet, self).__init__()\n",
    "        self.sequence = list()\n",
    "        self.sequence.append(tf.keras.layers.Conv2D(16, (3,3), padding = 'same', activation = 'relu'))#28x28x16\n",
    "        self.sequence.append(tf.keras.layers.Conv2D(16, (3, 3), padding = 'same', activation = 'relu'))#28x28x16\n",
    "        self.sequence.append(tf.keras.layers.MaxPool2D((2, 2))) #14x14x16\n",
    "        \n",
    "        self.sequence.append(tf.keras.layers.Conv2D(32, (3,3), padding = 'same', activation = 'relu'))#14x14x32\n",
    "        self.sequence.append(tf.keras.layers.Conv2D(32, (3, 3), padding = 'same', activation = 'relu'))#14x14x32\n",
    "        self.sequence.append(tf.keras.layers.MaxPool2D((2, 2))) #7x7x32\n",
    "        \n",
    "        self.sequence.append(tf.keras.layers.Conv2D(64, (3,3), padding = 'same', activation = 'relu'))#7x7x64\n",
    "        self.sequence.append(tf.keras.layers.Conv2D(64, (3, 3), padding = 'same', activation = 'relu'))#7x7x64\n",
    "        \n",
    "        self.sequence.append(tf.keras.layers.Flatten()) #7x7x64 = 1568 크기의 feature vector가 완성됩니다. \n",
    "        \n",
    "        self.sequence.append(tf.keras.layers.Dense(2048, activation = 'relu')) #이 feature vector을 10개로 classification하기 위해서 Dense layer 사용\n",
    "        self.sequence.append(tf.keras.layers.Dense(10, activation = 'softmax'))\n",
    "        \n",
    "        #이렇게 사용할 모든 layer을 선언해 주었습니다. \n",
    "        \n",
    "    def call(self, x, training = False, mask = None): #이렇게 선언된 layer들을 call 에서 모두 연결시켜 주어야 합니다. \n",
    "        #list에 각 layer들을 넣어주었기 때문에 각 sequence에 있는 layer을 순회하며 돌면서 연결해줘서 최종 출력까지 갈 수 있습니다. \n",
    "        for layer in self.sequence:\n",
    "                x = layer(x)\n",
    "        return x\n",
    "        "
   ]
  },
  {
   "cell_type": "code",
   "execution_count": 35,
   "metadata": {},
   "outputs": [],
   "source": [
    "#3. Training function\n",
    "@tf.function\n",
    "def train_step(model, images, labels, loss_object, optimizer, train_loss, train_accuracy):\n",
    "    with tf.GradientTape() as tape: #tf.GradientTape을 사용하여 그래디언트를 계산합니다.\n",
    "        predictions = model(images)\n",
    "        loss = loss_object(labels, predictions)\n",
    "    gradients = tape.gradient(loss, model.trainable_variables)\n",
    "    \n",
    "    optimizer.apply_gradients(zip(gradients, model.trainable_variables))\n",
    "    train_loss(loss)\n",
    "    train_accuracy(labels, predictions)\n",
    "    "
   ]
  },
  {
   "cell_type": "code",
   "execution_count": 36,
   "metadata": {},
   "outputs": [],
   "source": [
    "#4. Test function\n",
    "@tf.function\n",
    "def test_step(model, images, labels, loss_object, test_loss, test_accuracy):\n",
    "    predictions = model(images)\n",
    "    \n",
    "    t_loss = loss_object(labels, predictions)\n",
    "    test_loss(t_loss)\n",
    "    test_accuracy(labels, predictions)"
   ]
  },
  {
   "cell_type": "code",
   "execution_count": 37,
   "metadata": {},
   "outputs": [],
   "source": [
    "#5. Prepare Dataset : keras에서 제공하는 mnist dataset 사용\n",
    "\n",
    "#call Data\n",
    "mnist = tf.keras.datasets.mnist #이렇게 keras에서 mnist데이터를 가져옵니다. \n",
    "(X_train, y_train), (X_test, y_test) = mnist.load_data() #이 데이터의 구성이 train/test로 나뉘어져 있다. \n",
    "\n",
    "#Normalization\n",
    "X_train, X_test = X_train/255.0, X_test/255.0 #0~255로 표현이 되어 있으니 0~1로 바꿔줄 수 있다. \n",
    "\n",
    "#(num_sample, height, weight)-> (num_sample, height, weight, channel in)추가\n",
    "X_train = X_train[..., tf.newaxis].astype(np.float32)#casting도 잊지말고 해줍니다. \n",
    "X_test = X_test[..., tf.newaxis].astype(np.float32)\n",
    "\n",
    "#dataset 만둘어주기\n",
    "train_ds = tf.data.Dataset.from_tensor_slices((X_train, y_train)).shuffle(10000).batch(32) #tf.data.Dataset.from_tensor_slices() 이 함수를 이용하면 numpy나 tensor로부터 dataset을 구축할 수 있습니다. \n",
    "test_ds = tf.data.Dataset.from_tensor_slices((X_test, y_test)).batch(32) #test는 shuffle이 필요없습니다. \n",
    "\n",
    "\n"
   ]
  },
  {
   "cell_type": "code",
   "execution_count": 38,
   "metadata": {},
   "outputs": [],
   "source": [
    "#6. Define the training environment\n",
    "\n",
    "#create model\n",
    "model = ConvNet()\n",
    "\n",
    "#Define loss and optimizer\n",
    "loss_object = tf.keras.losses.SparseCategoricalCrossentropy()\n",
    "optimizer = tf.keras.optimizers.Adam()\n",
    "\n",
    "#Define performance metrics\n",
    "train_loss = tf.keras.metrics.Mean(name = 'train_loss')\n",
    "train_accuracy = tf.keras.metrics.SparseCategoricalAccuracy(name = 'train_accuracy')\n",
    "\n",
    "test_loss = tf.keras.metrics.Mean(name = 'test_loss')\n",
    "test_accuracy = tf.keras.metrics.SparseCategoricalAccuracy(name = 'test_accuracy')"
   ]
  },
  {
   "cell_type": "code",
   "execution_count": null,
   "metadata": {},
   "outputs": [
    {
     "name": "stdout",
     "output_type": "stream",
     "text": [
      "Epoch 1, loss: 0.0779663473367691, Accuracy: 97.57250213623047, Test Loss: 0.03051144815981388, Test Accuracy: 98.97999572753906\n",
      "Epoch 2, loss: 0.06343494355678558, Accuracy: 98.03111267089844, Test Loss: 0.033057499676942825, Test Accuracy: 98.97000122070312\n"
     ]
    }
   ],
   "source": [
    "# 7. Training\n",
    "\n",
    "for epoch in range(Epochs):\n",
    "    for images, labels in train_ds:\n",
    "        train_step(model, images, labels, loss_object, optimizer, train_loss, train_accuracy)\n",
    "        \n",
    "    for test_images, test_labels in test_ds:\n",
    "        test_step(model, test_images, test_labels, loss_object, test_loss, test_accuracy)\n",
    "        \n",
    "    template = 'Epoch {}, loss: {}, Accuracy: {}, Test Loss: {}, Test Accuracy: {}'\n",
    "    print(template.format(epoch+1, \n",
    "                         train_loss.result(), #result() — 누적된 측정 결과를 얻습니다.\n",
    "                         train_accuracy.result()*100, \n",
    "                         test_loss.result(), \n",
    "                         test_accuracy.result()*100))"
   ]
  },
  {
   "cell_type": "code",
   "execution_count": null,
   "metadata": {},
   "outputs": [],
   "source": [
    "참고 : https://www.tensorflow.org/guide/migrate?hl=ko"
   ]
  }
 ],
 "metadata": {
  "kernelspec": {
   "display_name": "Python 3",
   "language": "python",
   "name": "python3"
  },
  "language_info": {
   "codemirror_mode": {
    "name": "ipython",
    "version": 3
   },
   "file_extension": ".py",
   "mimetype": "text/x-python",
   "name": "python",
   "nbconvert_exporter": "python",
   "pygments_lexer": "ipython3",
   "version": "3.6.9"
  }
 },
 "nbformat": 4,
 "nbformat_minor": 2
}
