{
 "cells": [
  {
   "cell_type": "markdown",
   "metadata": {},
   "source": [
    " # 0. 딥러닝 실습 환경 소개"
   ]
  },
  {
   "cell_type": "code",
   "execution_count": 1,
   "metadata": {},
   "outputs": [],
   "source": [
    "import tensorflow as tf"
   ]
  },
  {
   "cell_type": "markdown",
   "metadata": {},
   "source": [
    "### 1) 하이퍼파라미터 설정"
   ]
  },
  {
   "cell_type": "code",
   "execution_count": 2,
   "metadata": {},
   "outputs": [],
   "source": [
    "EPOCHS = 5"
   ]
  },
  {
   "cell_type": "markdown",
   "metadata": {},
   "source": [
    "### 2) 네트워크 구조 정의"
   ]
  },
  {
   "cell_type": "code",
   "execution_count": 3,
   "metadata": {},
   "outputs": [],
   "source": [
    "#keras를 상속받아서 사용\n",
    "class MyModel(tf.keras.Model):\n",
    "    def __init__(self) : #init에서 앞으로 사용할 모든 layer를 정의\n",
    "        super(MyModel, self).__init__()\n",
    "        self.flatten = tf.keras.layers.Flatten(input_shape = (28, 28))\n",
    "        self.d1 = tf.keras.layers.Dense(128, activation = 'sigmoid')\n",
    "        self.d2 = tf.keras.layers.Dense(10, activation = 'softmax')\n",
    "    \n",
    "    def call(self, x) : #call에서 각 layer의 연결성을 구성\n",
    "        x = self.flatten(x)\n",
    "        x = self.d1(x)\n",
    "        return self.d2(x)"
   ]
  },
  {
   "cell_type": "markdown",
   "metadata": {},
   "source": [
    "### 3) 학습loop 정의"
   ]
  },
  {
   "cell_type": "code",
   "execution_count": 23,
   "metadata": {},
   "outputs": [],
   "source": [
    "@tf.function\n",
    "def train_step(model, images, labels, loss_object, optimizer, train_loss, train_accuracy) : #다양한 입력값을 받아서\n",
    "    with tf.GradientTape() as tape : \n",
    "        predictions = model(images) #model에 input image을 넣어서 출력을 내고\n",
    "        loss = loss_object(labels, predictions)#출력과 정답을 비교해서\n",
    "    gradients = tape.gradient(loss, model.trainable_variables)        #loss, gradient를 점차 개선\n",
    "    \n",
    "    optimizer.apply_gradients(zip(gradients, model.trainable_variables))\n",
    "    train_loss(loss)\n",
    "    train_accuracy(labels, predictions)\n",
    "\n"
   ]
  },
  {
   "cell_type": "markdown",
   "metadata": {},
   "source": [
    "### 4) test loop 정의 : 학습 loop 과 거의 유사한데, gradient를 만드는 부분만 빠져있는 것이다."
   ]
  },
  {
   "cell_type": "code",
   "execution_count": 21,
   "metadata": {},
   "outputs": [],
   "source": [
    "@tf.function\n",
    "def test_step(model, images, labels, loss_object, test_loss, test_accuracy):\n",
    "    predictions = model(images)\n",
    "    \n",
    "    t_loss = loss_object(labels, predictions)\n",
    "    test_loss(t_loss)\n",
    "    test_accuracy(labels, predictions)"
   ]
  },
  {
   "cell_type": "markdown",
   "metadata": {},
   "source": [
    "### 5) 실질적인 학습 : 학습 데이터셋 가져오고, 정리"
   ]
  },
  {
   "cell_type": "code",
   "execution_count": 13,
   "metadata": {},
   "outputs": [],
   "source": [
    "#import and organize dataset\n",
    "mnist = tf.keras.datasets.mnist\n",
    "(x_train, y_train), (x_test, y_test) = mnist.load_data()\n",
    "x_train, x_test = x_train/255.0, x_test/255.0\n",
    "\n",
    "x_train = x_train[..., tf.newaxis]\n",
    "x_test = x_test[..., tf.newaxis]\n",
    "\n",
    "train_ds = tf.data.Dataset.from_tensor_slices((x_train, y_train)).shuffle(10000).batch(32)\n",
    "test_ds = tf.data.Dataset.from_tensor_slices((x_test, y_test)).batch(32)"
   ]
  },
  {
   "cell_type": "markdown",
   "metadata": {},
   "source": [
    "### 6) 네트워크 생성"
   ]
  },
  {
   "cell_type": "code",
   "execution_count": 14,
   "metadata": {},
   "outputs": [],
   "source": [
    "model = MyModel()"
   ]
  },
  {
   "cell_type": "markdown",
   "metadata": {},
   "source": [
    "### 7) 손실함수, 최적화 알고리즘 정의"
   ]
  },
  {
   "cell_type": "code",
   "execution_count": 15,
   "metadata": {},
   "outputs": [],
   "source": [
    "loss_object = tf.keras.losses.SparseCategoricalCrossentropy()\n",
    "optimizer = tf.keras.optimizers.Adam()"
   ]
  },
  {
   "cell_type": "markdown",
   "metadata": {},
   "source": [
    "### 8)알고리즘 평가지표 설정 "
   ]
  },
  {
   "cell_type": "code",
   "execution_count": 16,
   "metadata": {},
   "outputs": [],
   "source": [
    "train_loss = tf.keras.metrics.Mean(name = 'train_loss')\n",
    "train_accuracy = tf.keras.metrics.SparseCategoricalAccuracy(name = 'train_accuracy')\n",
    "\n",
    "test_loss = tf.keras.metrics.Mean(name = 'test_loss')\n",
    "test_accuracy = tf.keras.metrics.SparseCategoricalAccuracy(name = 'test_accuracy')\n",
    "\n",
    "\n",
    "\n"
   ]
  },
  {
   "cell_type": "markdown",
   "metadata": {},
   "source": [
    "### 9) 알고리즘 학습, 테스트 루프"
   ]
  },
  {
   "cell_type": "code",
   "execution_count": null,
   "metadata": {},
   "outputs": [
    {
     "name": "stdout",
     "output_type": "stream",
     "text": [
      "Epoch : 1, Loss : 2.5846405029296875, Accuracy : 3.125, Test Loss : 2.459831714630127, Test Accuracy : 10.40999984741211\n",
      "Epoch : 1, Loss : 2.580331802368164, Accuracy : 7.8125, Test Loss : 2.4214465618133545, Test Accuracy : 11.045000076293945\n",
      "Epoch : 1, Loss : 2.502699851989746, Accuracy : 10.416666030883789, Test Loss : 2.3896024227142334, Test Accuracy : 12.373332977294922\n",
      "Epoch : 1, Loss : 2.486110210418701, Accuracy : 10.9375, Test Loss : 2.3609459400177, Test Accuracy : 14.255001068115234\n",
      "Epoch : 1, Loss : 2.4454658031463623, Accuracy : 11.875, Test Loss : 2.3347837924957275, Test Accuracy : 16.507999420166016\n",
      "Epoch : 1, Loss : 2.4160077571868896, Accuracy : 13.020833015441895, Test Loss : 2.310385227203369, Test Accuracy : 18.84833335876465\n",
      "Epoch : 1, Loss : 2.3808157444000244, Accuracy : 15.625, Test Loss : 2.2873430252075195, Test Accuracy : 20.928571701049805\n",
      "Epoch : 1, Loss : 2.341986656188965, Accuracy : 19.53125, Test Loss : 2.2657792568206787, Test Accuracy : 22.700000762939453\n",
      "Epoch : 1, Loss : 2.311404228210449, Accuracy : 21.52777671813965, Test Loss : 2.2456328868865967, Test Accuracy : 24.479999542236328\n",
      "Epoch : 1, Loss : 2.2902605533599854, Accuracy : 22.1875, Test Loss : 2.2265987396240234, Test Accuracy : 26.576000213623047\n",
      "Epoch : 1, Loss : 2.2595691680908203, Accuracy : 25.56818199157715, Test Loss : 2.208700180053711, Test Accuracy : 28.7845458984375\n",
      "Epoch : 1, Loss : 2.248042345046997, Accuracy : 26.82291603088379, Test Loss : 2.191472291946411, Test Accuracy : 30.93166732788086\n",
      "Epoch : 1, Loss : 2.225083589553833, Accuracy : 29.567306518554688, Test Loss : 2.1748507022857666, Test Accuracy : 32.898460388183594\n",
      "Epoch : 1, Loss : 2.208596706390381, Accuracy : 31.696430206298828, Test Loss : 2.1586649417877197, Test Accuracy : 34.632144927978516\n",
      "Epoch : 1, Loss : 2.1992945671081543, Accuracy : 32.5, Test Loss : 2.1427621841430664, Test Accuracy : 36.15333557128906\n",
      "Epoch : 1, Loss : 2.183861494064331, Accuracy : 33.59375, Test Loss : 2.1270904541015625, Test Accuracy : 37.479373931884766\n",
      "Epoch : 1, Loss : 2.160682201385498, Accuracy : 36.02941131591797, Test Loss : 2.1116697788238525, Test Accuracy : 38.630001068115234\n",
      "Epoch : 1, Loss : 2.1418051719665527, Accuracy : 37.32638931274414, Test Loss : 2.0965099334716797, Test Accuracy : 39.66389083862305\n",
      "Epoch : 1, Loss : 2.130636215209961, Accuracy : 37.99342346191406, Test Loss : 2.0815703868865967, Test Accuracy : 40.59842300415039\n",
      "Epoch : 1, Loss : 2.11338472366333, Accuracy : 38.75, Test Loss : 2.0668509006500244, Test Accuracy : 41.446998596191406\n",
      "Epoch : 1, Loss : 2.1048223972320557, Accuracy : 38.83928680419922, Test Loss : 2.052269697189331, Test Accuracy : 42.272857666015625\n",
      "Epoch : 1, Loss : 2.0925376415252686, Accuracy : 39.20454788208008, Test Loss : 2.0377955436706543, Test Accuracy : 43.132728576660156\n",
      "Epoch : 1, Loss : 2.072744369506836, Accuracy : 40.489131927490234, Test Loss : 2.0234758853912354, Test Accuracy : 44.02347946166992\n",
      "Epoch : 1, Loss : 2.058478832244873, Accuracy : 41.796875, Test Loss : 2.009305000305176, Test Accuracy : 44.92333221435547\n",
      "Epoch : 1, Loss : 2.046654462814331, Accuracy : 42.5, Test Loss : 1.9952983856201172, Test Accuracy : 45.81480026245117\n",
      "Epoch : 1, Loss : 2.033623695373535, Accuracy : 43.26923370361328, Test Loss : 1.981499433517456, Test Accuracy : 46.685001373291016\n",
      "Epoch : 1, Loss : 2.022148609161377, Accuracy : 43.75, Test Loss : 1.9679402112960815, Test Accuracy : 47.565185546875\n",
      "Epoch : 1, Loss : 2.0069785118103027, Accuracy : 44.41964340209961, Test Loss : 1.9546313285827637, Test Accuracy : 48.44356918334961\n",
      "Epoch : 1, Loss : 1.9947328567504883, Accuracy : 44.93534469604492, Test Loss : 1.941582441329956, Test Accuracy : 49.3206901550293\n",
      "Epoch : 1, Loss : 1.9818593263626099, Accuracy : 45.833335876464844, Test Loss : 1.9288173913955688, Test Accuracy : 50.16999816894531\n",
      "Epoch : 1, Loss : 1.9662425518035889, Accuracy : 46.975807189941406, Test Loss : 1.9162843227386475, Test Accuracy : 50.98774337768555\n"
     ]
    }
   ],
   "source": [
    "for epoch in range(EPOCHS) : \n",
    "    for images, labels in train_ds : \n",
    "        train_step(model, images, labels, loss_object, optimizer, train_loss, train_accuracy)\n",
    "        \n",
    "        for test_images, test_labels in test_ds : \n",
    "            test_step(model, test_images, test_labels, loss_object, test_loss, test_accuracy)\n",
    "            \n",
    "        template = 'Epoch : {}, Loss : {}, Accuracy : {}, Test Loss : {}, Test Accuracy : {}'\n",
    "        print(template.format(epoch + 1, \n",
    "                             train_loss.result(), \n",
    "                             train_accuracy.result() *100, \n",
    "                             test_loss.result(), \n",
    "                             test_accuracy.result() *100))"
   ]
  },
  {
   "cell_type": "code",
   "execution_count": null,
   "metadata": {},
   "outputs": [],
   "source": []
  }
 ],
 "metadata": {
  "kernelspec": {
   "display_name": "Python 3",
   "language": "python",
   "name": "python3"
  },
  "language_info": {
   "codemirror_mode": {
    "name": "ipython",
    "version": 3
   },
   "file_extension": ".py",
   "mimetype": "text/x-python",
   "name": "python",
   "nbconvert_exporter": "python",
   "pygments_lexer": "ipython3",
   "version": "3.6.9"
  }
 },
 "nbformat": 4,
 "nbformat_minor": 2
}
