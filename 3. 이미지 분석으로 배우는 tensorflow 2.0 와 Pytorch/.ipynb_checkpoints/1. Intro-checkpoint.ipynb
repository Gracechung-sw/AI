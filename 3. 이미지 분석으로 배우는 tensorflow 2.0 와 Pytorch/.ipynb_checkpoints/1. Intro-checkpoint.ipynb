{
 "cells": [
  {
   "cell_type": "markdown",
   "metadata": {},
   "source": [
    "# 1. Intro\n",
    "## 목적\n",
    "    - 간단한기본 예시 데이터로 학습하는 것이 아닌, 실전에서 사용할 수 있는 Tensorflow와 pytorch 사용\n",
    "    - 모델 성능 향상에 필요한 추가 기본 방법\n",
    "    - 캐글이나 실전에서 필요한 방법들 소개"
   ]
  },
  {
   "cell_type": "markdown",
   "metadata": {},
   "source": [
    "## 강의구성\n",
    "### 1. custom 한 데이터 넣는 방법\n",
    "    : custom한 데이터이든, 캐글에서든 데이터를 받게 되면 직접 모델에 적용해 볼 수 있는 비교적 실전형\n",
    "### 2. 이미지 전처리\n",
    "### 3. Augmentation\n",
    "      : 데이터를 증폭시켜서 다양하게 이미지에 변화를 주어 모델에 적용해보도록 함\n",
    "      즉, Augmentation을 통해 여러 환경에서도 적응이 되도록 모델에게 트레이닝\n",
    "### 4. Callbacks\n",
    "    : 모델이 학습 도중 epoch 또는 step단위로 이벤트를 일으키는 옵션\n",
    "### 5. 모델 저장 및 불러오기"
   ]
  },
  {
   "cell_type": "code",
   "execution_count": null,
   "metadata": {},
   "outputs": [],
   "source": []
  }
 ],
 "metadata": {
  "kernelspec": {
   "display_name": "Python 3",
   "language": "python",
   "name": "python3"
  },
  "language_info": {
   "codemirror_mode": {
    "name": "ipython",
    "version": 3
   },
   "file_extension": ".py",
   "mimetype": "text/x-python",
   "name": "python",
   "nbconvert_exporter": "python",
   "pygments_lexer": "ipython3",
   "version": "3.6.9"
  }
 },
 "nbformat": 4,
 "nbformat_minor": 2
}
