{
 "cells": [
  {
   "cell_type": "markdown",
   "metadata": {},
   "source": [
    "# 7. tf.data 사용하여 image & make batch\n",
    "\n",
    "tf.data를 사용하면 generator사용하지 않는다. \n",
    "- 단점) 구현 하기가 복잡하다. 영상 처리 customize 다 직접해야함\n",
    "- 장점) 국한 된 기능 뿐만 아니라 직접 customize해서 다양하게 돌려 볼 수 있다. "
   ]
  },
  {
   "cell_type": "code",
   "execution_count": 1,
   "metadata": {},
   "outputs": [],
   "source": [
    "import os\n",
    "from glob import glob\n",
    "\n",
    "import numpy as np\n",
    "import tensorflow as tf\n",
    "\n",
    "import matplotlib.pyplot as plt\n",
    "%matplotlib inline"
   ]
  },
  {
   "cell_type": "code",
   "execution_count": 2,
   "metadata": {},
   "outputs": [],
   "source": [
    "data_paths = glob('/Users/jeonghyeonjeong/for github/인공지능_딥러닝_dataset/cifar/train/*.png')\n",
    "path = data_paths[0]"
   ]
  },
  {
   "cell_type": "code",
   "execution_count": 3,
   "metadata": {},
   "outputs": [
    {
     "data": {
      "image/png": "[encoded data removed]",
      "text/plain": [
       "<Figure size 432x288 with 1 Axes>"
      ]
     },
     "metadata": {
      "needs_background": "light"
     },
     "output_type": "display_data"
    }
   ],
   "source": [
    "gfile = tf.io.read_file(path)\n",
    "image = tf.io.decode_image(gfile)\n",
    "image.shape\n",
    "\n",
    "#시각화\n",
    "plt.title(os.path.basename(path))\n",
    "plt.imshow(image)\n",
    "plt.show()"
   ]
  },
  {
   "cell_type": "markdown",
   "metadata": {},
   "source": [
    "### 1. tf.data 의 사용"
   ]
  },
  {
   "cell_type": "code",
   "execution_count": 4,
   "metadata": {},
   "outputs": [
    {
     "data": {
      "text/plain": [
       "['/Users/jeonghyeonjeong/for github/인공지능_딥러닝_dataset/cifar/train/32270_deer.png',\n",
       " '/Users/jeonghyeonjeong/for github/인공지능_딥러닝_dataset/cifar/train/21851_cat.png',\n",
       " '/Users/jeonghyeonjeong/for github/인공지능_딥러닝_dataset/cifar/train/48309_deer.png',\n",
       " '/Users/jeonghyeonjeong/for github/인공지능_딥러닝_dataset/cifar/train/33547_truck.png',\n",
       " '/Users/jeonghyeonjeong/for github/인공지능_딥러닝_dataset/cifar/train/45202_automobile.png',\n",
       " '/Users/jeonghyeonjeong/for github/인공지능_딥러닝_dataset/cifar/train/2789_bird.png',\n",
       " '/Users/jeonghyeonjeong/for github/인공지능_딥러닝_dataset/cifar/train/24517_horse.png',\n",
       " '/Users/jeonghyeonjeong/for github/인공지능_딥러닝_dataset/cifar/train/15193_frog.png',\n",
       " '/Users/jeonghyeonjeong/for github/인공지능_딥러닝_dataset/cifar/train/10817_ship.png',\n",
       " '/Users/jeonghyeonjeong/for github/인공지능_딥러닝_dataset/cifar/train/49897_ship.png']"
      ]
     },
     "execution_count": 4,
     "metadata": {},
     "output_type": "execute_result"
    }
   ],
   "source": [
    "data_paths[:10]"
   ]
  },
  {
   "cell_type": "code",
   "execution_count": 5,
   "metadata": {},
   "outputs": [],
   "source": [
    "#함수 만들어서 사용\n",
    "def get_image(path):\n",
    "    gfile = tf.io.read_file(path)\n",
    "    image = tf.io.decode_image(gfile)\n",
    "    return image\n",
    "\n",
    "#이러면 \n",
    "dataset = tf.data.Dataset.from_tensor_slices(data_paths)\n",
    "dataset = dataset.map(get_image)"
   ]
  },
  {
   "cell_type": "code",
   "execution_count": 6,
   "metadata": {},
   "outputs": [
    {
     "data": {
      "text/plain": [
       "TensorShape([32, 32, 3])"
      ]
     },
     "execution_count": 6,
     "metadata": {},
     "output_type": "execute_result"
    }
   ],
   "source": [
    "#dataset 중 하나(next사용)만 가져 와 본다. \n",
    "tf_image = next(iter(dataset))\n",
    "tf_image.shape"
   ]
  },
  {
   "cell_type": "code",
   "execution_count": 7,
   "metadata": {},
   "outputs": [
    {
     "data": {
      "image/png": "[encoded data removed]",
      "text/plain": [
       "<Figure size 432x288 with 1 Axes>"
      ]
     },
     "metadata": {
      "needs_background": "light"
     },
     "output_type": "display_data"
    }
   ],
   "source": [
    "plt.imshow(tf_image)\n",
    "plt.show()\n"
   ]
  },
  {
   "cell_type": "markdown",
   "metadata": {},
   "source": [
    "### 2. Batch로 묶기\n",
    "#### 이미지를 넣어 줄 때 하나씩 넣는 것이 아니라 batch 형태로 넣기 때문에 batch로 묶어 주는 것이 필요"
   ]
  },
  {
   "cell_type": "code",
   "execution_count": 8,
   "metadata": {},
   "outputs": [],
   "source": [
    "dataset = tf.data.Dataset.from_tensor_slices(data_paths)\n",
    "dataset = dataset.map(get_image)\n",
    "dataset = dataset.batch(batch_size=8)"
   ]
  },
  {
   "cell_type": "code",
   "execution_count": 9,
   "metadata": {},
   "outputs": [],
   "source": [
    "#batch로 묶은 것의 처음 것만 가져와 보면, \n",
    "tf_image_batch = next(iter(dataset))"
   ]
  },
  {
   "cell_type": "code",
   "execution_count": 10,
   "metadata": {},
   "outputs": [
    {
     "data": {
      "text/plain": [
       "TensorShape([8, 32, 32, 3])"
      ]
     },
     "execution_count": 10,
     "metadata": {},
     "output_type": "execute_result"
    }
   ],
   "source": [
    "tf_image_batch.shape #[8, 32, 32, 3]로 batch_size = 8만큼 묶여 짐을 볼 수 있다. "
   ]
  },
  {
   "cell_type": "code",
   "execution_count": 11,
   "metadata": {},
   "outputs": [
    {
     "data": {
      "image/png": "[encoded data removed]",
      "text/plain": [
       "<Figure size 432x288 with 1 Axes>"
      ]
     },
     "metadata": {
      "needs_background": "light"
     },
     "output_type": "display_data"
    }
   ],
   "source": [
    "#시각화 \n",
    "plt.imshow(tf_image_batch[5])\n",
    "plt.show()"
   ]
  },
  {
   "cell_type": "markdown",
   "metadata": {},
   "source": [
    "### 3. shuffle(random하게 데이터 섞어 주는 것) 하기"
   ]
  },
  {
   "cell_type": "code",
   "execution_count": 12,
   "metadata": {},
   "outputs": [],
   "source": [
    "dataset = tf.data.Dataset.from_tensor_slices(data_paths)\n",
    "dataset = dataset.map(get_image)\n",
    "dataset = dataset.batch(batch_size=32)\n",
    "dataset = dataset.shuffle(buffer_size = len(data_paths))#buffer_size = 얼마나 하는지는 정해져 있지 않지만 공식 홈페이지에는 데이터 개수만큼 넣어준다.\n",
    "dataset = dataset.repeat()"
   ]
  },
  {
   "cell_type": "markdown",
   "metadata": {},
   "source": [
    "순서보면\n",
    "1. 데이터 경로\n",
    "2. 이미지를 읽는 것\n",
    "3. batch로 묶어주기\n",
    "4. shuffle로 랜덤하게 섞어주기\n",
    "5. 그리고 시각화 해서 결과보기"
   ]
  },
  {
   "cell_type": "code",
   "execution_count": 13,
   "metadata": {},
   "outputs": [
    {
     "data": {
      "image/png": "[encoded data removed]",
      "text/plain": [
       "<Figure size 432x288 with 1 Axes>"
      ]
     },
     "metadata": {
      "needs_background": "light"
     },
     "output_type": "display_data"
    }
   ],
   "source": [
    "tf_images = next(iter(dataset))\n",
    "plt.imshow(tf_images[0])\n",
    "plt.show() #deer가 아닌 강아지가 나오니 섞였다는 것을 알 수 있음"
   ]
  },
  {
   "cell_type": "markdown",
   "metadata": {},
   "source": [
    "### 4. 이미지와 Label하고 같이 넣기"
   ]
  },
  {
   "cell_type": "code",
   "execution_count": 14,
   "metadata": {},
   "outputs": [
    {
     "data": {
      "text/plain": [
       "'/Users/jeonghyeonjeong/for github/인공지능_딥러닝_dataset/cifar/train/32270_deer.png'"
      ]
     },
     "execution_count": 14,
     "metadata": {},
     "output_type": "execute_result"
    }
   ],
   "source": [
    "path"
   ]
  },
  {
   "cell_type": "code",
   "execution_count": 15,
   "metadata": {},
   "outputs": [
    {
     "data": {
      "text/plain": [
       "'deer.png'"
      ]
     },
     "execution_count": 15,
     "metadata": {},
     "output_type": "execute_result"
    }
   ],
   "source": [
    "path.split(sep = '_')[-1]"
   ]
  },
  {
   "cell_type": "code",
   "execution_count": 16,
   "metadata": {},
   "outputs": [
    {
     "data": {
      "text/plain": [
       "'deer'"
      ]
     },
     "execution_count": 16,
     "metadata": {},
     "output_type": "execute_result"
    }
   ],
   "source": [
    "path.split(sep = '_')[-1].replace('.png', '') #이렇게 label만 따로 나오게 할 수 있다. "
   ]
  },
  {
   "cell_type": "code",
   "execution_count": 17,
   "metadata": {},
   "outputs": [],
   "source": [
    "#위의 과정을 함수화하면\n",
    "\n",
    "def get_label(path):\n",
    "    return path.split('_')[-1].replace('.png', '')\n"
   ]
  },
  {
   "cell_type": "code",
   "execution_count": 18,
   "metadata": {},
   "outputs": [
    {
     "data": {
      "text/plain": [
       "'deer'"
      ]
     },
     "execution_count": 18,
     "metadata": {},
     "output_type": "execute_result"
    }
   ],
   "source": [
    "label_name = get_label(path)\n",
    "label_name"
   ]
  },
  {
   "cell_type": "code",
   "execution_count": 19,
   "metadata": {},
   "outputs": [
    {
     "data": {
      "text/plain": [
       "['deer',\n",
       " 'cat',\n",
       " 'deer',\n",
       " 'truck',\n",
       " 'automobile',\n",
       " 'bird',\n",
       " 'horse',\n",
       " 'frog',\n",
       " 'ship',\n",
       " 'ship']"
      ]
     },
     "execution_count": 19,
     "metadata": {},
     "output_type": "execute_result"
    }
   ],
   "source": [
    "#전체 labels 한꺼번에 가져오기\n",
    "labels = [get_label(path) for path in data_paths]\n",
    "labels[:10]"
   ]
  },
  {
   "cell_type": "code",
   "execution_count": 20,
   "metadata": {},
   "outputs": [
    {
     "data": {
      "text/plain": [
       "array(['airplane', 'automobile', 'bird', 'cat', 'deer', 'dog', 'frog',\n",
       "       'horse', 'ship', 'truck'], dtype='<U10')"
      ]
     },
     "execution_count": 20,
     "metadata": {},
     "output_type": "execute_result"
    }
   ],
   "source": [
    "#unique한 것만 보면\n",
    "classes = np.unique(labels)\n",
    "classes"
   ]
  },
  {
   "cell_type": "code",
   "execution_count": 21,
   "metadata": {},
   "outputs": [
    {
     "data": {
      "text/plain": [
       "array([0, 0, 0, 0, 1, 0, 0, 0, 0, 0], dtype=uint8)"
      ]
     },
     "execution_count": 21,
     "metadata": {},
     "output_type": "execute_result"
    }
   ],
   "source": [
    "#one hot encoding\n",
    "##컴퓨터가 이해 할 수 있는 형태로 label 변환\n",
    "onehot_encoding = np.array(classes == 'deer', np.uint8)\n",
    "onehot_encoding"
   ]
  },
  {
   "cell_type": "code",
   "execution_count": 22,
   "metadata": {},
   "outputs": [],
   "source": [
    "#위와 같은 개념으로 할 것이라서 모든 label마다 해주기 위해 함수 만들고, 반복문 돌리면 \n",
    "\n",
    "def onehot_encoding(label):\n",
    "    return np.array(classes == label, np.uint8)"
   ]
  },
  {
   "cell_type": "markdown",
   "metadata": {},
   "source": [
    "아니면,  keras에서 제공하는 to_categorical 이용해도 됨\n",
    "\n",
    "from tensorflow.keras.utils import to_categorical\n",
    "onehot_encoding = to_categorical(label, len(classes)\n",
    "                                (<-원래 label명, 전체 class 개수를 말함)"
   ]
  },
  {
   "cell_type": "code",
   "execution_count": 23,
   "metadata": {},
   "outputs": [],
   "source": [
    "#이제 이미지와 onehot encoding 한 label을 함께 넣어준다. \n",
    "#이를 위한 함수만들기\n",
    "def get_image_label(path, label):\n",
    "    gfile = tf.io.read_file(path)\n",
    "    image = tf.io.decode_image(gfile, dtype=tf.float32)\n",
    "    return image, label"
   ]
  },
  {
   "cell_type": "code",
   "execution_count": 24,
   "metadata": {},
   "outputs": [],
   "source": [
    "#모든 labels를 위의 함수를 사용해서 onehot encoding 해줌\n",
    "labels = [onehot_encoding(cls_name) for cls_name in labels]"
   ]
  },
  {
   "cell_type": "code",
   "execution_count": 25,
   "metadata": {},
   "outputs": [],
   "source": [
    "dataset = tf.data.Dataset.from_tensor_slices((data_paths, labels))\n",
    "dataset = dataset.map(get_image_label)\n",
    "dataset = dataset.batch(batch_size = 32)\n",
    "dataset = dataset.shuffle(buffer_size = len(data_paths))\n",
    "dataset = dataset.repeat() #epoch가 반복해서 돌아갈 수 있도록 함    "
   ]
  },
  {
   "cell_type": "code",
   "execution_count": 28,
   "metadata": {},
   "outputs": [
    {
     "data": {
      "text/plain": [
       "(<tf.Tensor: id=16, shape=(32, 32, 3), dtype=uint8, numpy=\n",
       " array([[[191, 194, 175],\n",
       "         [182, 185, 165],\n",
       "         [182, 186, 164],\n",
       "         ...,\n",
       "         [191, 194, 172],\n",
       "         [188, 191, 171],\n",
       "         [188, 191, 173]],\n",
       " \n",
       "        [[175, 177, 156],\n",
       "         [146, 149, 122],\n",
       "         [145, 148, 117],\n",
       "         ...,\n",
       "         [151, 157, 119],\n",
       "         [151, 157, 123],\n",
       "         [166, 171, 143]],\n",
       " \n",
       "        [[177, 177, 154],\n",
       "         [137, 139, 106],\n",
       "         [119, 122,  79],\n",
       "         ...,\n",
       "         [119, 128,  74],\n",
       "         [137, 144,  99],\n",
       "         [171, 177, 142]],\n",
       " \n",
       "        ...,\n",
       " \n",
       "        [[174, 180, 148],\n",
       "         [134, 140,  91],\n",
       "         [102, 109,  44],\n",
       "         ...,\n",
       "         [ 91, 104,  53],\n",
       "         [134, 145, 103],\n",
       "         [164, 170, 140]],\n",
       " \n",
       "        [[163, 173, 140],\n",
       "         [121, 134,  86],\n",
       "         [113, 129,  67],\n",
       "         ...,\n",
       "         [134, 146, 101],\n",
       "         [143, 153, 115],\n",
       "         [167, 173, 144]],\n",
       " \n",
       "        [[168, 176, 150],\n",
       "         [145, 157, 123],\n",
       "         [146, 162, 121],\n",
       "         ...,\n",
       "         [174, 185, 150],\n",
       "         [165, 174, 144],\n",
       "         [176, 181, 158]]], dtype=uint8)>, False)"
      ]
     },
     "execution_count": 28,
     "metadata": {},
     "output_type": "execute_result"
    }
   ],
   "source": [
    "image, labels == next(iter(dataset))"
   ]
  },
  {
   "cell_type": "code",
   "execution_count": 29,
   "metadata": {},
   "outputs": [
    {
     "data": {
      "text/plain": [
       "array([0, 0, 0, 0, 1, 0, 0, 0, 0, 0], dtype=uint8)"
      ]
     },
     "execution_count": 29,
     "metadata": {},
     "output_type": "execute_result"
    }
   ],
   "source": [
    "np.array(labels[0])"
   ]
  },
  {
   "cell_type": "code",
   "execution_count": 32,
   "metadata": {},
   "outputs": [
    {
     "data": {
      "image/png": "[encoded data removed]",
      "text/plain": [
       "<Figure size 432x288 with 1 Axes>"
      ]
     },
     "metadata": {
      "needs_background": "light"
     },
     "output_type": "display_data"
    }
   ],
   "source": [
    "plt.title(np.array(labels[0]))\n",
    "plt.imshow(image)\n",
    "plt.show()"
   ]
  },
  {
   "cell_type": "markdown",
   "metadata": {},
   "source": [
    "## 5. 총정리 ) tensorflow 함수로 label 얻기\n"
   ]
  },
  {
   "cell_type": "code",
   "execution_count": 33,
   "metadata": {},
   "outputs": [
    {
     "data": {
      "text/plain": [
       "'/Users/jeonghyeonjeong/for github/인공지능_딥러닝_dataset/cifar/train/32270_deer.png'"
      ]
     },
     "execution_count": 33,
     "metadata": {},
     "output_type": "execute_result"
    }
   ],
   "source": [
    "#1. 파일 불러오기\n",
    "path"
   ]
  },
  {
   "cell_type": "code",
   "execution_count": 34,
   "metadata": {},
   "outputs": [
    {
     "data": {
      "text/plain": [
       "'deer'"
      ]
     },
     "execution_count": 34,
     "metadata": {},
     "output_type": "execute_result"
    }
   ],
   "source": [
    "#2. 파일명에서 label얻기\n",
    "fname = tf.strings.split(path, '-')[-1]\n",
    "lable_name = tf.strings.regex_replace(fname, '.png', '')\n",
    "label_name"
   ]
  },
  {
   "cell_type": "code",
   "execution_count": 36,
   "metadata": {},
   "outputs": [
    {
     "data": {
      "text/plain": [
       "<tf.Tensor: id=530, shape=(10,), dtype=uint8, numpy=array([0, 0, 0, 0, 1, 0, 0, 0, 0, 0], dtype=uint8)>"
      ]
     },
     "execution_count": 36,
     "metadata": {},
     "output_type": "execute_result"
    }
   ],
   "source": [
    "#3. label을 onehot encoding 해주기\n",
    "onehot = tf.cast(label_name == classes, tf.uint8)\n",
    "onehot"
   ]
  },
  {
   "cell_type": "code",
   "execution_count": 37,
   "metadata": {},
   "outputs": [],
   "source": [
    "#4. 모든 이미지에서도 위와 같은 과정 반복하기 위해 함수 설정\n",
    "#get_label : 파일명에서 ->label만 뽑아내서 -> onehot encoding 해주기\n",
    "\n",
    "def get_label(path):\n",
    "    fname = tf.strings.split(path, '-')[-1]\n",
    "    label_name = tf.strings.regex_replace(fname, '.png', '')\n",
    "    onehot = tf.cast(label_name == classes, tf.uint8)\n",
    "    return onehot"
   ]
  },
  {
   "cell_type": "code",
   "execution_count": 39,
   "metadata": {},
   "outputs": [],
   "source": [
    "#5. 이미지와 label 합쳐주기위한 함수 설정\n",
    "#load_image_label : 파일명에 해당하는 이미지 불러오고, 해당하는 label 추출 후 함께 리턴하는 함수\n",
    "\n",
    "def load_image_label(path):\n",
    "    gfile = tf.io.read_file(path)\n",
    "    image = tf.io.decode_image(gfile, dtype = np.float32)\n",
    "    label = get_label(path)\n",
    "    return image, label"
   ]
  },
  {
   "cell_type": "code",
   "execution_count": 40,
   "metadata": {},
   "outputs": [],
   "source": [
    "#6. dataset 전체의 이미지와 label 한번에 묶어서 넣기\n",
    "image, label = next(iter(dataset))"
   ]
  },
  {
   "cell_type": "code",
   "execution_count": 41,
   "metadata": {},
   "outputs": [
    {
     "data": {
      "image/png": "[encoded data removed]",
      "text/plain": [
       "<Figure size 432x288 with 1 Axes>"
      ]
     },
     "metadata": {
      "needs_background": "light"
     },
     "output_type": "display_data"
    }
   ],
   "source": [
    "#7. 그렇게 한 dataset중에 제일 처음 것 출력해보기\n",
    "plt.title(np.array(label[0]))\n",
    "plt.imshow(image[0])\n",
    "plt.show()"
   ]
  },
  {
   "cell_type": "code",
   "execution_count": null,
   "metadata": {},
   "outputs": [],
   "source": []
  },
  {
   "cell_type": "code",
   "execution_count": null,
   "metadata": {},
   "outputs": [],
   "source": []
  }
 ],
 "metadata": {
  "kernelspec": {
   "display_name": "Python 3",
   "language": "python",
   "name": "python3"
  },
  "language_info": {
   "codemirror_mode": {
    "name": "ipython",
    "version": 3
   },
   "file_extension": ".py",
   "mimetype": "text/x-python",
   "name": "python",
   "nbconvert_exporter": "python",
   "pygments_lexer": "ipython3",
   "version": "3.6.9"
  }
 },
 "nbformat": 4,
 "nbformat_minor": 2
}
