{
 "cells": [
  {
   "cell_type": "markdown",
   "metadata": {},
   "source": [
    "# 4. Optimizer 및 Training\n",
    "\n",
    "## 4-1.Beginner\n",
    "이전까지 layer써서 모델을 만들고 했는데 이 모델을 학습시키는 것을 배워보도록 한다. "
   ]
  },
  {
   "cell_type": "code",
   "execution_count": 1,
   "metadata": {},
   "outputs": [],
   "source": [
    "import tensorflow as tf\n",
    "from tensorflow.keras import layers\n",
    "from tensorflow.keras import datasets"
   ]
  },
  {
   "cell_type": "markdown",
   "metadata": {},
   "source": [
    "### 1. prepare mnist datasets"
   ]
  },
  {
   "cell_type": "code",
   "execution_count": 2,
   "metadata": {},
   "outputs": [],
   "source": [
    "(train_x, train_y), (test_x, test_y) = datasets.mnist.load_data()"
   ]
  },
  {
   "cell_type": "markdown",
   "metadata": {},
   "source": [
    "### 2. build model"
   ]
  },
  {
   "cell_type": "code",
   "execution_count": 3,
   "metadata": {},
   "outputs": [],
   "source": [
    "inputs = layers.Input((28, 28, 1))\n",
    "net = layers.Conv2D(32, (3,3), padding = 'SAME')(inputs)\n",
    "net = layers.Activation('relu')(net)\n",
    "\n",
    "net = layers.Conv2D(32, 3, padding = 'SAME')(net)\n",
    "net = layers.Activation('relu')(net)\n",
    "\n",
    "net = layers.MaxPooling2D(pool_size = (2, 2))(net)\n",
    "net = layers.Dropout(0.25)(net)"
   ]
  },
  {
   "cell_type": "code",
   "execution_count": 4,
   "metadata": {},
   "outputs": [],
   "source": [
    "net = layers.Conv2D(64, 3, padding = 'SAME')(net)\n",
    "net = layers.Activation('relu')(net)\n",
    "\n",
    "net = layers.Conv2D(64, 3, padding = 'SAME')(net)\n",
    "net = layers.Activation('relu')(net)\n",
    "\n",
    "net = layers.MaxPooling2D(pool_size = (2, 2))(net)\n",
    "net = layers.Dropout(0.25)(net)"
   ]
  },
  {
   "cell_type": "code",
   "execution_count": 5,
   "metadata": {},
   "outputs": [],
   "source": [
    "net =layers.Flatten()(net)\n",
    "\n",
    "net = layers.Dense(512)(net)\n",
    "\n",
    "net = layers.Activation('relu')(net)\n",
    "\n",
    "net = layers.Dropout(0.5)(net)\n",
    "\n",
    "net = layers.Dense(10)(net)\n",
    "\n",
    "net = layers.Activation('softmax')(net)"
   ]
  },
  {
   "cell_type": "code",
   "execution_count": 6,
   "metadata": {},
   "outputs": [],
   "source": [
    "model = tf.keras.Model(inputs = inputs, outputs = net, name = 'BASIC_CNN')"
   ]
  },
  {
   "cell_type": "markdown",
   "metadata": {},
   "source": [
    "### 3. Optimization : 모델을 학습 하기 전 설정하는 것들\n",
    "- Loss function\n",
    "- Optimization\n",
    "- Metrics"
   ]
  },
  {
   "cell_type": "markdown",
   "metadata": {},
   "source": [
    "#### 1) Loss Function\n",
    ": cross entropy사용\n",
    "    1. Categorical cross entropey가 있고,\n",
    "        1) sparse_categoical_crossentropy **tf.keras.losses.sparse_categorical_crossentropy**\n",
    "        2) categorical_crossentropt**tf.keras.losses.categorical_crossentropy**\n",
    "    2. Binary cross entropy가 있다.  **tf.keras.losses.binary_crossentropy**"
   ]
  },
  {
   "cell_type": "code",
   "execution_count": 7,
   "metadata": {},
   "outputs": [],
   "source": [
    "# 이 중 여기서는 sparse_categorical_crossentropy를 사용 할 것이다. \n",
    "loss_func = tf.keras.losses.sparse_categorical_crossentropy"
   ]
  },
  {
   "cell_type": "markdown",
   "metadata": {},
   "source": [
    "#### 2) Metrics : 모델을 평가하는 방법\n",
    "- accuracy(전체 문제에서 몇 개를 맞출 확률) 로 평가"
   ]
  },
  {
   "cell_type": "code",
   "execution_count": 8,
   "metadata": {},
   "outputs": [],
   "source": [
    "metrics = ['accuracy'] #tf.keras.metrics.Accuracy()로 하는 방법도 있다. "
   ]
  },
  {
   "cell_type": "markdown",
   "metadata": {},
   "source": [
    "#### 3) Compile : Optimizer 적용\n",
    "- 'sgd'\n",
    "- 'rmsprop'\n",
    "- 'adam'"
   ]
  },
  {
   "cell_type": "code",
   "execution_count": 9,
   "metadata": {},
   "outputs": [],
   "source": [
    "#여기선 adam으로 적용\n",
    "optm = tf.keras.optimizers.Adam()"
   ]
  },
  {
   "cell_type": "code",
   "execution_count": 10,
   "metadata": {},
   "outputs": [],
   "source": [
    "model.compile(optimizer= optm, \n",
    "                  loss = loss_func, \n",
    "                  metrics = metrics) \n",
    "#optm = tf.keras.optimizers.Adam()\n",
    "#loss_func = tf.keras.losses.sparse_categorical_crossentropy\n",
    "#metrics = ['accuracy'] "
   ]
  },
  {
   "cell_type": "markdown",
   "metadata": {},
   "source": [
    "### 4. Prepare Dataset : 학습에 활용할 데이터셋 준비"
   ]
  },
  {
   "cell_type": "markdown",
   "metadata": {},
   "source": [
    "#### 1) shape확인"
   ]
  },
  {
   "cell_type": "code",
   "execution_count": 11,
   "metadata": {},
   "outputs": [
    {
     "data": {
      "text/plain": [
       "((60000, 28, 28), (60000,), (10000, 28, 28), (10000,))"
      ]
     },
     "execution_count": 11,
     "metadata": {},
     "output_type": "execute_result"
    }
   ],
   "source": [
    "train_x.shape, train_y.shape, test_x.shape, test_y.shape"
   ]
  },
  {
   "cell_type": "markdown",
   "metadata": {},
   "source": [
    "#### 2) 차원 수 늘리기 : channel이 없어서 3차원을 4차원을 늘려줘야 함"
   ]
  },
  {
   "cell_type": "code",
   "execution_count": 20,
   "metadata": {},
   "outputs": [],
   "source": [
    "import numpy as np\n",
    "\n",
    "train_x = train_x[..., tf.newaxis]\n",
    "test_x = test_x[..., tf.newaxis]"
   ]
  },
  {
   "cell_type": "markdown",
   "metadata": {},
   "source": [
    "#### 3) Rescaling : 이를 해 줘야 학습이 잘 된다. "
   ]
  },
  {
   "cell_type": "code",
   "execution_count": 21,
   "metadata": {},
   "outputs": [
    {
     "data": {
      "text/plain": [
       "(0.0, 1.0)"
      ]
     },
     "execution_count": 21,
     "metadata": {},
     "output_type": "execute_result"
    }
   ],
   "source": [
    "np.min(train_x), np.max(train_x)"
   ]
  },
  {
   "cell_type": "code",
   "execution_count": 22,
   "metadata": {},
   "outputs": [],
   "source": [
    "train_x = train_x/255.\n",
    "test_x = test_x/255."
   ]
  },
  {
   "cell_type": "code",
   "execution_count": 23,
   "metadata": {},
   "outputs": [
    {
     "data": {
      "text/plain": [
       "(0.0, 0.00392156862745098)"
      ]
     },
     "execution_count": 23,
     "metadata": {},
     "output_type": "execute_result"
    }
   ],
   "source": [
    "np.min(train_x), np.max(test_x)"
   ]
  },
  {
   "cell_type": "markdown",
   "metadata": {},
   "source": [
    "### 5. Training : 본격적으로 학습 들어가기"
   ]
  },
  {
   "cell_type": "markdown",
   "metadata": {},
   "source": [
    "#### 1) 학습용 Hyperparameter 설정\n",
    "- num_epochs : 데이터를 한 번 쭉 보면 1 epoch 이다. (즉, 우리가 흔히 말하는 1회독 개념)\n",
    "- batch_szie  : 한 epoch를 하기 위해서 batch_size만큼만 차례로 넣어준다. (데이터 막 몇 만개 되는데 한번에 넣어주면 메모리 효율이 떨어진다. )"
   ]
  },
  {
   "cell_type": "code",
   "execution_count": 24,
   "metadata": {},
   "outputs": [],
   "source": [
    "num_epochs = 1\n",
    "batch_size  = 32"
   ]
  },
  {
   "cell_type": "markdown",
   "metadata": {},
   "source": [
    "#### 2) model fit"
   ]
  },
  {
   "cell_type": "code",
   "execution_count": 25,
   "metadata": {},
   "outputs": [
    {
     "name": "stdout",
     "output_type": "stream",
     "text": [
      "Train on 60000 samples\n",
      "60000/60000 [==============================] - 157s 3ms/sample - loss: 2.3017 - accuracy: 0.1115\n"
     ]
    },
    {
     "data": {
      "text/plain": [
       "<tensorflow.python.keras.callbacks.History at 0x67c71add8>"
      ]
     },
     "execution_count": 25,
     "metadata": {},
     "output_type": "execute_result"
    }
   ],
   "source": [
    "model.fit(train_x, train_y,\n",
    "              batch_size = batch_size, \n",
    "             shuffle = True,  #데이터가 순서대로 들어가면 특정 숫자에 bias가 걸리게 된다. 그래서 랜덤하게 데이터를 섞어주는게 필요하다.\n",
    "             epochs = num_epochs)"
   ]
  },
  {
   "cell_type": "code",
   "execution_count": null,
   "metadata": {},
   "outputs": [],
   "source": []
  }
 ],
 "metadata": {
  "kernelspec": {
   "display_name": "Python 3",
   "language": "python",
   "name": "python3"
  },
  "language_info": {
   "codemirror_mode": {
    "name": "ipython",
    "version": 3
   },
   "file_extension": ".py",
   "mimetype": "text/x-python",
   "name": "python",
   "nbconvert_exporter": "python",
   "pygments_lexer": "ipython3",
   "version": "3.6.9"
  }
 },
 "nbformat": 4,
 "nbformat_minor": 2
}
