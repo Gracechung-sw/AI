{
 "cells": [
  {
   "cell_type": "markdown",
   "metadata": {},
   "source": [
    "# 2. Pytorch Data Preprocess\n",
    ": pytorch로 MNIST 불러오고 불러온 데이터 시각화해서 확인해보기\n",
    "\n",
    "=> **torch.utils.data.DataLoader** 의 사용"
   ]
  },
  {
   "cell_type": "code",
   "execution_count": 1,
   "metadata": {},
   "outputs": [],
   "source": [
    "import torch\n",
    "\n",
    "from torchvision import datasets, transforms"
   ]
  },
  {
   "cell_type": "markdown",
   "metadata": {},
   "source": [
    "## Data Loader 부르기\n",
    ": pytorch 는 utils.data에 있는 DataLoader를 불러 model에 넣는다. "
   ]
  },
  {
   "cell_type": "code",
   "execution_count": 2,
   "metadata": {},
   "outputs": [],
   "source": [
    "batch_size = 32\n",
    "test_batch_size = 32"
   ]
  },
  {
   "cell_type": "code",
   "execution_count": 3,
   "metadata": {},
   "outputs": [],
   "source": [
    "#train_loader 불러오기\n",
    "train_loader = torch.utils.data.DataLoader(\n",
    "    datasets.MNIST('dataset/', #저장 경로\n",
    "                    train = True, #train용으로 만들 거다. \n",
    "                    download = True, #없으면 download해라\n",
    "                    transform = transforms.Compose([ #transform 해주는 옵션들\n",
    "                                                   transforms.ToTensor(), \n",
    "                                                   transforms.Normalize(mean = (0.5,), std = (0.5,))\n",
    "                                                ])), \n",
    "    batch_size = batch_size, \n",
    "    shuffle = True)"
   ]
  },
  {
   "cell_type": "code",
   "execution_count": 4,
   "metadata": {},
   "outputs": [],
   "source": [
    "#test_loader 불러오기\n",
    "test_loader = torch.utils.data.DataLoader(\n",
    "    datasets.MNIST('dataset/', #저장 경로\n",
    "                    train = False, #train용이 안니다. \n",
    "                    download = True, #없으면 download해라\n",
    "                    transform = transforms.Compose([ #transform 해주는 옵션들\n",
    "                                                   transforms.ToTensor(), \n",
    "                                                   transforms.Normalize(mean = (0.5,), std = (0.5,))\n",
    "                                                ])), \n",
    "    batch_size = test_batch_size, \n",
    "    shuffle = True)"
   ]
  },
  {
   "cell_type": "markdown",
   "metadata": {},
   "source": [
    "## 첫 번째 iteration에서 나오는 데이터 확인"
   ]
  },
  {
   "cell_type": "code",
   "execution_count": 5,
   "metadata": {},
   "outputs": [],
   "source": [
    "images, labels = next(iter(train_loader))"
   ]
  },
  {
   "cell_type": "code",
   "execution_count": 6,
   "metadata": {},
   "outputs": [
    {
     "data": {
      "text/plain": [
       "torch.Size([32, 1, 28, 28])"
      ]
     },
     "execution_count": 6,
     "metadata": {},
     "output_type": "execute_result"
    }
   ],
   "source": [
    "images.shape \n",
    "#tesorflow에서는 [batch_size, height, width, channel]이었는데 \n",
    "#pytorch에서는 [batch_size, channel, height, width]"
   ]
  },
  {
   "cell_type": "markdown",
   "metadata": {},
   "source": [
    "## 데이터 시각화"
   ]
  },
  {
   "cell_type": "code",
   "execution_count": 7,
   "metadata": {},
   "outputs": [],
   "source": [
    "import numpy as np\n",
    "import matplotlib.pyplot as plt\n",
    "%matplotlib inline"
   ]
  },
  {
   "cell_type": "code",
   "execution_count": 8,
   "metadata": {},
   "outputs": [
    {
     "data": {
      "text/plain": [
       "torch.Size([28, 28])"
      ]
     },
     "execution_count": 8,
     "metadata": {},
     "output_type": "execute_result"
    }
   ],
   "source": [
    "#이미지 하나(images[0]) 시각화 할 때, height, width만 남길려고 .squeeze\n",
    "torch_image = torch.squeeze(images[0])\n",
    "torch_image.shape"
   ]
  },
  {
   "cell_type": "code",
   "execution_count": 9,
   "metadata": {},
   "outputs": [
    {
     "data": {
      "text/plain": [
       "(28, 28)"
      ]
     },
     "execution_count": 9,
     "metadata": {},
     "output_type": "execute_result"
    }
   ],
   "source": [
    "#이미지와 label모두 numpy화 해주고\n",
    "torch_image = torch_image.numpy()\n",
    "torch_label = labels[0].numpy()\n",
    "torch_image.shape "
   ]
  },
  {
   "cell_type": "code",
   "execution_count": 11,
   "metadata": {},
   "outputs": [
    {
     "data": {
      "image/png": "[encoded data removed]",
      "text/plain": [
       "<Figure size 432x288 with 1 Axes>"
      ]
     },
     "metadata": {
      "needs_background": "light"
     },
     "output_type": "display_data"
    }
   ],
   "source": [
    "#시각화\n",
    "plt.title(torch_label)\n",
    "plt.imshow(torch_image, 'gray')\n",
    "plt.show()"
   ]
  },
  {
   "cell_type": "markdown",
   "metadata": {},
   "source": [
    "tensorflow는 방법이 너무 많은 반면에, \n",
    "\n",
    "pytorch는 이럴 땐 이걸 써! 라고 딱 정해준다. \n",
    "\n",
    "지금도 **data를 불러올 땐 torch.utils.data.DataLoader 써 라고 딱 정해져있다 .**\n",
    "\n",
    "pytorch는 이런점이 좋다. "
   ]
  }
 ],
 "metadata": {
  "kernelspec": {
   "display_name": "Python 3",
   "language": "python",
   "name": "python3"
  },
  "language_info": {
   "codemirror_mode": {
    "name": "ipython",
    "version": 3
   },
   "file_extension": ".py",
   "mimetype": "text/x-python",
   "name": "python",
   "nbconvert_exporter": "python",
   "pygments_lexer": "ipython3",
   "version": "3.7.6"
  }
 },
 "nbformat": 4,
 "nbformat_minor": 4
}
